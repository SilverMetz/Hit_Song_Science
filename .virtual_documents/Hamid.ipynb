%pip install pandas
%pip install matplotlib
%pip install seaborn
%pip install scipy


import pandas as pd
import numpy as np
import seaborn as sns
import matplotlib.pylab as plt





dfs = []
for f in ['00', '10', '60', '70', '80', '90']:
    df=pd.read_csv(f"./Dataset/Songs_1960s_to_2010s/dataset-of-{f}s.csv")
    dfs.append(df)
df_merged = pd.concat(dfs)
df_with_numerical_features = df_merged[['danceability', 'energy', 'key', 'loudness',
       'mode', 'speechiness', 'acousticness', 'instrumentalness', 'liveness',
       'valence', 'tempo', 'duration_ms', 'time_signature', 'chorus_hit',
       'sections', 'target']]








df_merged.describe()


_ = df_merged.hist()





_ = df_merged.groupby('target').hist()





for feature in df_with_numerical_features.columns:
    if feature == 'target':
        continue
    print(feature)
    _ = df_merged.groupby('target')[feature].hist(alpha=0.5)
    plt.show()





sns.heatmap(df_with_numerical_features.corr())


_ = pd.plotting.scatter_matrix(df_merged, alpha=0.2, figsize=(16, 16), diagonal='kde')






