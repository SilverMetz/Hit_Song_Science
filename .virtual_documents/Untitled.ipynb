%pip install pandas
%pip install matplotlib
%pip install seaborn
%pip install scipy
import pandas as pd
import matplotlib.pylab as plt
import seaborn as sns
import numpy as np



