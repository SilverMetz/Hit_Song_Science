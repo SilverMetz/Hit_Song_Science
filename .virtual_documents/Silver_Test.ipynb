%pip install pandas
%pip install matplotlib
%pip install seaborn
%pip install scipy


import pandas as pd
import numpy as np
import seaborn as sns
import matplotlib.pylab as plt


pd.read_csv("song_data.csv")


df = pd.read_csv("song_data.csv")


df


#Added the dataset, made variable with dataset, now I can make some graphs with it.


#Unfortunately, no artist names are given. So we cannot check if specific artists have been overrepresented in the set (so it doesn't contain 6000 Bach songs)


#Now I'm going to check the distribution of the feature values.


df.describe()


#Normalizing comes later


#Now let's try to make a histogram of all the features, first not grouped by the popularity, afterwards grouped by popularity. (oops. song_popularity is a range)


_ = df.hist()


#Can't do a lot with this, as long as I don't make popularity 0 or 1...


#Scatterplot time...


_ = sns.pairplot(df)



